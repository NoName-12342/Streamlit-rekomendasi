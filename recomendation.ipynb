{
 "cells": [
  {
   "cell_type": "code",
   "execution_count": 4,
   "metadata": {},
   "outputs": [],
   "source": [
    "import pandas as pd\n",
    "import datetime as dt\n"
   ]
  },
  {
   "cell_type": "code",
   "execution_count": 5,
   "metadata": {},
   "outputs": [],
   "source": [
    "# Load the dataset\n",
    "file_path = 'Most Streamed Spotify Songs 2024.csv'\n",
    "spotify_data = pd.read_csv(file_path, encoding='latin1')"
   ]
  },
  {
   "cell_type": "code",
   "execution_count": 6,
   "metadata": {},
   "outputs": [
    {
     "name": "stdout",
     "output_type": "stream",
     "text": [
      "Original columns: Index(['Track', 'Album Name', 'Artist', 'Release Date', 'ISRC',\n",
      "       'All Time Rank', 'Track Score', 'Spotify Streams',\n",
      "       'Spotify Playlist Count', 'Spotify Playlist Reach',\n",
      "       'Spotify Popularity', 'YouTube Views', 'YouTube Likes', 'TikTok Posts',\n",
      "       'TikTok Likes', 'TikTok Views', 'YouTube Playlist Reach',\n",
      "       'Apple Music Playlist Count', 'AirPlay Spins', 'SiriusXM Spins',\n",
      "       'Deezer Playlist Count', 'Deezer Playlist Reach',\n",
      "       'Amazon Playlist Count', 'Pandora Streams', 'Pandora Track Stations',\n",
      "       'Soundcloud Streams', 'Shazam Counts', 'TIDAL Popularity',\n",
      "       'Explicit Track'],\n",
      "      dtype='object')\n"
     ]
    }
   ],
   "source": [
    "# Check column names to ensure no duplicates\n",
    "print(\"Original columns:\", spotify_data.columns)"
   ]
  },
  {
   "cell_type": "code",
   "execution_count": 7,
   "metadata": {},
   "outputs": [],
   "source": [
    "# Remove duplicate columns if any\n",
    "spotify_data = spotify_data.loc[:, ~spotify_data.columns.duplicated()]"
   ]
  },
  {
   "cell_type": "code",
   "execution_count": 8,
   "metadata": {},
   "outputs": [],
   "source": [
    "# Convert release date to datetime format\n",
    "spotify_data['Release Date'] = pd.to_datetime(spotify_data['Release Date'], errors='coerce')"
   ]
  },
  {
   "cell_type": "code",
   "execution_count": 14,
   "metadata": {},
   "outputs": [],
   "source": [
    "def recommend_songs_by_date(data, start_date=None, end_date=None, top_n=10, sort_by='Spotify Streams'):\n",
    "    # Create a copy of the data to avoid modifying the original\n",
    "    filtered_data = data.copy()\n",
    "    \n",
    "    # Ensure the sort_by column is numeric and handle NaN values\n",
    "    filtered_data[sort_by] = pd.to_numeric(\n",
    "        filtered_data[sort_by].astype(str).str.replace(',', ''),\n",
    "        errors='coerce'\n",
    "    ).fillna(0)\n",
    "    \n",
    "    # Calculate All Time Rank based on the complete dataset before filtering\n",
    "    # Using fillna for rank calculation to handle any remaining NaN values\n",
    "    filtered_data['All Time Rank'] = filtered_data[sort_by].fillna(0).rank(\n",
    "        ascending=False,\n",
    "        method='dense'\n",
    "    ).astype(int)\n",
    "    \n",
    "    # Filter data based on dates\n",
    "    if start_date:\n",
    "        filtered_data = filtered_data[filtered_data['Release Date'] >= pd.to_datetime(start_date)]\n",
    "    if end_date:\n",
    "        filtered_data = filtered_data[filtered_data['Release Date'] <= pd.to_datetime(end_date)]\n",
    "    \n",
    "    # Sort data and get top N records\n",
    "    if top_n:\n",
    "        filtered_data = filtered_data.nlargest(top_n, sort_by)\n",
    "    else:\n",
    "        filtered_data = filtered_data.sort_values(by=sort_by, ascending=False)\n",
    "    \n",
    "    # Format Spotify Streams for display\n",
    "    filtered_data[sort_by] = filtered_data[sort_by].apply(lambda x: '{:,.0f}'.format(x))\n",
    "    \n",
    "    return filtered_data[['Track', 'Artist', 'Album Name', 'Release Date', sort_by, 'All Time Rank']]"
   ]
  },
  {
   "cell_type": "code",
   "execution_count": 15,
   "metadata": {},
   "outputs": [],
   "source": [
    "# Example usage\n",
    "start_date = '2023-01-04'\n",
    "end_date = '2024-01-01'\n",
    "recommended_songs = recommend_songs_by_date(\n",
    "    spotify_data, \n",
    "    start_date=start_date, \n",
    "    end_date=end_date, \n",
    "    top_n=10, \n",
    "    sort_by='Spotify Streams'\n",
    ")"
   ]
  },
  {
   "cell_type": "code",
   "execution_count": 16,
   "metadata": {},
   "outputs": [
    {
     "name": "stdout",
     "output_type": "stream",
     "text": [
      "\n",
      "Sample of original Spotify Streams:\n",
      "0      390,470,936\n",
      "1      323,703,884\n",
      "2      601,309,283\n",
      "3    2,031,280,633\n",
      "4      107,034,922\n",
      "Name: Spotify Streams, dtype: object\n",
      "\n",
      "Recommended Songs:\n",
      "                                    Track                   Artist  \\\n",
      "3                                 Flowers              Miley Cyrus   \n",
      "3758                              Flowers              Miley Cyrus   \n",
      "1630                              Flowers              Miley Cyrus   \n",
      "4331                            Kill Bill                      SZA   \n",
      "1113                            Kill Bill          pasa michaelson   \n",
      "155   Seven (feat. Latto) (Explicit Ver.)                Jung Kook   \n",
      "389      Seven (feat. Latto) (Clean Ver.)                Jung Kook   \n",
      "2132      Gangsta's Paradise (feat. L.V.)                   Coolio   \n",
      "1265                 Danza Kuduro - Cover            MUSIC LAB JPN   \n",
      "862                  Danza Kuduro - Cover  DJ MIX NON-STOP CHANNEL   \n",
      "\n",
      "                                             Album Name Release Date  \\\n",
      "3                                      Flowers - Single   2023-01-12   \n",
      "3758                           Flowers (Official Video)   2023-01-12   \n",
      "1630                  NOW That's What I Call Music! 115   2023-07-28   \n",
      "4331                         Kill Bill (Official Video)   2023-01-10   \n",
      "1113                                 Kill Bill - Single   2023-08-26   \n",
      "155                                 Seven (feat. Latto)   2023-07-14   \n",
      "389                                 Seven (feat. Latto)   2023-07-14   \n",
      "2132  ...And You Don't Stop - A Celebration of 50 Ye...   2023-08-11   \n",
      "1265                                 CLUB SONG MIX 2023   2023-11-10   \n",
      "862                          DON'T STOP WORKOUT -DJMIX-   2023-12-21   \n",
      "\n",
      "     Spotify Streams  All Time Rank  \n",
      "3      2,031,280,633             83  \n",
      "3758   2,031,280,633             83  \n",
      "1630   2,010,422,639             88  \n",
      "4331   1,873,746,537            113  \n",
      "1113   1,842,758,768            118  \n",
      "155    1,673,557,134            165  \n",
      "389    1,673,557,134            165  \n",
      "2132   1,666,699,743            169  \n",
      "1265   1,651,606,290            181  \n",
      "862    1,648,192,461            183  \n"
     ]
    }
   ],
   "source": [
    "# Display debugging information\n",
    "print(\"\\nSample of original Spotify Streams:\")\n",
    "print(spotify_data['Spotify Streams'].head())\n",
    "\n",
    "print(\"\\nRecommended Songs:\")\n",
    "print(recommended_songs)"
   ]
  }
 ],
 "metadata": {
  "kernelspec": {
   "display_name": "Python 3",
   "language": "python",
   "name": "python3"
  },
  "language_info": {
   "codemirror_mode": {
    "name": "ipython",
    "version": 3
   },
   "file_extension": ".py",
   "mimetype": "text/x-python",
   "name": "python",
   "nbconvert_exporter": "python",
   "pygments_lexer": "ipython3",
   "version": "3.11.5"
  }
 },
 "nbformat": 4,
 "nbformat_minor": 2
}
